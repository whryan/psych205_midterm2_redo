{
 "cells": [
  {
   "cell_type": "markdown",
   "metadata": {},
   "source": [
    "# Practice Midterm 2\n",
    "### Psych 205 Practice Midterm 2"
   ]
  },
  {
   "cell_type": "markdown",
   "metadata": {},
   "source": [
    "# NOTE: I WOULD USE THE QUICK REFERENCE INSTEAD. THE LAST QUESTION ON THIS PRACTICE MIDTERM IS INCORRECT"
   ]
  },
  {
   "cell_type": "code",
   "execution_count": null,
   "metadata": {
    "collapsed": true
   },
   "outputs": [],
   "source": []
  },
  {
   "cell_type": "code",
   "execution_count": 1,
   "metadata": {},
   "outputs": [
    {
     "name": "stderr",
     "output_type": "stream",
     "text": [
      "Loading required package: car\n",
      "Warning message:\n",
      "\"package 'car' was built under R version 3.4.3\""
     ]
    }
   ],
   "source": [
    "require(car)\n",
    "require(stats)"
   ]
  },
  {
   "cell_type": "code",
   "execution_count": 2,
   "metadata": {
    "collapsed": true
   },
   "outputs": [],
   "source": [
    "tooth = ToothGrowth"
   ]
  },
  {
   "cell_type": "markdown",
   "metadata": {},
   "source": [
    "## Exercise 1. (1 point).  \n",
    "### Visualize the data. Use the scatterplot command to make a scatterplot of the data with one line for each of the delivery methods. Perform a two-way anova (with interaction) to evaluate \n"
   ]
  },
  {
   "cell_type": "code",
   "execution_count": 3,
   "metadata": {
    "collapsed": true
   },
   "outputs": [],
   "source": [
    "#scatterplot(len~dose|supp, data=ToothGrowth)\n"
   ]
  },
  {
   "cell_type": "code",
   "execution_count": 4,
   "metadata": {},
   "outputs": [
    {
     "data": {
      "text/plain": [
       "\n",
       "OJ VC \n",
       "30 30 "
      ]
     },
     "metadata": {},
     "output_type": "display_data"
    }
   ],
   "source": [
    "table(tooth$supp)"
   ]
  },
  {
   "cell_type": "code",
   "execution_count": 5,
   "metadata": {},
   "outputs": [
    {
     "data": {
      "text/plain": [
       "\n",
       "0.5   1   2 \n",
       " 20  20  20 "
      ]
     },
     "metadata": {},
     "output_type": "display_data"
    }
   ],
   "source": [
    "table(tooth$dose)"
   ]
  },
  {
   "cell_type": "code",
   "execution_count": 6,
   "metadata": {},
   "outputs": [
    {
     "data": {
      "text/plain": [
       "   Min. 1st Qu.  Median    Mean 3rd Qu.    Max. \n",
       "   4.20   13.07   19.25   18.81   25.27   33.90 "
      ]
     },
     "metadata": {},
     "output_type": "display_data"
    }
   ],
   "source": [
    "summary(tooth$len)"
   ]
  },
  {
   "cell_type": "code",
   "execution_count": 7,
   "metadata": {},
   "outputs": [
    {
     "data": {
      "text/plain": [
       "            Df Sum Sq Mean Sq F value   Pr(>F)    \n",
       "supp         1  205.4   205.4  12.317 0.000894 ***\n",
       "dose         1 2224.3  2224.3 133.415  < 2e-16 ***\n",
       "supp:dose    1   88.9    88.9   5.333 0.024631 *  \n",
       "Residuals   56  933.6    16.7                     \n",
       "---\n",
       "Signif. codes:  0 '***' 0.001 '**' 0.01 '*' 0.05 '.' 0.1 ' ' 1"
      ]
     },
     "metadata": {},
     "output_type": "display_data"
    }
   ],
   "source": [
    "#Two way anova with interaction effect (http://www.sthda.com/english/wiki/two-way-anova-test-in-r)\n",
    "summary(aov(len ~ supp*dose, data=ToothGrowth))"
   ]
  },
  {
   "cell_type": "markdown",
   "metadata": {},
   "source": [
    "# Exercise 2\n",
    "Test the predictive power of three nested models \n",
    "* that correspond to a single line, \n",
    "* two lines with different intercepts and \n",
    "* two lines with different intercepts and slopes.\n",
    "\n",
    "Type in the commands to make these models and using the summary() command comment on the results.  \n",
    "You comments should address both the values of the model coefficients and of the measures of goodness of fit.\n",
    "Type in your comments as \"comments\" in this R script below the R commands."
   ]
  },
  {
   "cell_type": "markdown",
   "metadata": {},
   "source": [
    "### Single line"
   ]
  },
  {
   "cell_type": "code",
   "execution_count": 8,
   "metadata": {},
   "outputs": [
    {
     "data": {
      "text/plain": [
       "\n",
       "Call:\n",
       "lm(formula = len ~ dose, data = tooth)\n",
       "\n",
       "Residuals:\n",
       "    Min      1Q  Median      3Q     Max \n",
       "-8.4496 -2.7406 -0.7452  2.8344 10.1139 \n",
       "\n",
       "Coefficients:\n",
       "            Estimate Std. Error t value Pr(>|t|)    \n",
       "(Intercept)   7.4225     1.2601    5.89 2.06e-07 ***\n",
       "dose          9.7636     0.9525   10.25 1.23e-14 ***\n",
       "---\n",
       "Signif. codes:  0 '***' 0.001 '**' 0.01 '*' 0.05 '.' 0.1 ' ' 1\n",
       "\n",
       "Residual standard error: 4.601 on 58 degrees of freedom\n",
       "Multiple R-squared:  0.6443,\tAdjusted R-squared:  0.6382 \n",
       "F-statistic: 105.1 on 1 and 58 DF,  p-value: 1.233e-14\n"
      ]
     },
     "metadata": {},
     "output_type": "display_data"
    }
   ],
   "source": [
    "mod1 = lm(len ~ dose, data=tooth)\n",
    "summary(mod1)\n",
    "#R^2 and adjR2 of .64 and .63 respectively"
   ]
  },
  {
   "cell_type": "markdown",
   "metadata": {},
   "source": [
    "### Two lines, different intercept"
   ]
  },
  {
   "cell_type": "code",
   "execution_count": 9,
   "metadata": {},
   "outputs": [
    {
     "data": {
      "text/plain": [
       "\n",
       "Call:\n",
       "lm(formula = len ~ supp + dose, data = tooth)\n",
       "\n",
       "Residuals:\n",
       "   Min     1Q Median     3Q    Max \n",
       "-6.600 -3.700  0.373  2.116  8.800 \n",
       "\n",
       "Coefficients:\n",
       "            Estimate Std. Error t value Pr(>|t|)    \n",
       "(Intercept)   9.2725     1.2824   7.231 1.31e-09 ***\n",
       "suppVC       -3.7000     1.0936  -3.383   0.0013 ** \n",
       "dose          9.7636     0.8768  11.135 6.31e-16 ***\n",
       "---\n",
       "Signif. codes:  0 '***' 0.001 '**' 0.01 '*' 0.05 '.' 0.1 ' ' 1\n",
       "\n",
       "Residual standard error: 4.236 on 57 degrees of freedom\n",
       "Multiple R-squared:  0.7038,\tAdjusted R-squared:  0.6934 \n",
       "F-statistic: 67.72 on 2 and 57 DF,  p-value: 8.716e-16\n"
      ]
     },
     "metadata": {},
     "output_type": "display_data"
    }
   ],
   "source": [
    "mod2 = lm(len ~ supp + dose, data=tooth)\n",
    "summary(mod2)\n",
    "#both R2 and adjR2 increase massivly here -- going to .7 and .69 respectively\n",
    "# This indicates that adding dose means our model  explains much more of the\n",
    "#variability in length of teeth\n",
    "#and both are higher than the single term model, so we aren't being punished so much\n",
    "#for additional parameters that this isn't a benefit - it is\n",
    "#Both dose and supp are significant, dose extremely significant with a much higher \n",
    "#coefficient. This seems to imply that dose was a very important term for doing \n",
    "#accurate predictions\n",
    "#the reference level appears to be Supp OJ \n",
    "#VC decreases tooth length relative to OJ all else equal\n",
    "# increased dose increases tooth length"
   ]
  },
  {
   "cell_type": "markdown",
   "metadata": {},
   "source": [
    "### Two lines, different slopes"
   ]
  },
  {
   "cell_type": "code",
   "execution_count": 10,
   "metadata": {},
   "outputs": [
    {
     "data": {
      "text/plain": [
       "\n",
       "Call:\n",
       "lm(formula = len ~ supp * dose, data = tooth)\n",
       "\n",
       "Residuals:\n",
       "    Min      1Q  Median      3Q     Max \n",
       "-8.2264 -2.8462  0.0504  2.2893  7.9386 \n",
       "\n",
       "Coefficients:\n",
       "            Estimate Std. Error t value Pr(>|t|)    \n",
       "(Intercept)   11.550      1.581   7.304 1.09e-09 ***\n",
       "suppVC        -8.255      2.236  -3.691 0.000507 ***\n",
       "dose           7.811      1.195   6.534 2.03e-08 ***\n",
       "suppVC:dose    3.904      1.691   2.309 0.024631 *  \n",
       "---\n",
       "Signif. codes:  0 '***' 0.001 '**' 0.01 '*' 0.05 '.' 0.1 ' ' 1\n",
       "\n",
       "Residual standard error: 4.083 on 56 degrees of freedom\n",
       "Multiple R-squared:  0.7296,\tAdjusted R-squared:  0.7151 \n",
       "F-statistic: 50.36 on 3 and 56 DF,  p-value: 6.521e-16\n"
      ]
     },
     "metadata": {},
     "output_type": "display_data"
    }
   ],
   "source": [
    "mod3 = lm(len ~ supp*dose, data=tooth)\n",
    "summary(mod3)\n",
    "#R2 and adjR2 increased - despite additional terms, it is still higher than the\n",
    "#model, meaning more variability is explained even when adjusted for the additional \n",
    "#terms. All terms are significant, suggesting they are related\n",
    "#the reference level appears to be Supp OJ \n",
    "#taken as a whole, VC decreases tooth length relative to OJ all else equal\n",
    "# interacting with dose, VC has an estimate of 3.9 as opposed to the normal dose\n",
    "#slope of 7.8 - implying again that even in the interaction VC is providing less of \n",
    "#an increase in length as dose increases\n",
    "#dose is positively related to tooth length. (same description as in previous q)\n",
    "\n",
    "#Comparing adjusted R^2, it increases from model1 -> model2 -> model3. \n",
    "#So, it appears that even with the additional parameters, adding these terms is still\n",
    "#making this regression more accurate\n"
   ]
  },
  {
   "cell_type": "markdown",
   "metadata": {},
   "source": [
    "# Exercise 3.\n",
    "How many parameters are there in each of the three models?\n",
    "Make a line plot of model parameters versus R2adj. You can get R2adj from the summary commands."
   ]
  },
  {
   "cell_type": "code",
   "execution_count": 11,
   "metadata": {
    "collapsed": true
   },
   "outputs": [],
   "source": [
    "m1len = length(coef(mod1))\n",
    "#2\n",
    "m2len = length(coef(mod2))\n",
    "#3\n",
    "m3len = length(coef(mod3))\n",
    "#4\n",
    "# get adjR2\n",
    "m1r2 = summary(mod1)$adj.r.squared\n",
    "m2r2 = summary(mod2)$adj.r.squared\n",
    "m3r2 = summary(mod3)$adj.r.squared\n",
    "#plot\n",
    "#plot(c(m1len,m2len,m3len),c(m1r2,m2r2,m3r2), type=\"l\")"
   ]
  },
  {
   "cell_type": "markdown",
   "metadata": {},
   "source": [
    "# Exercise 4\n",
    "Calculate the R2, R2 adj, F and p value for the full model \"by hand\".\n",
    "Make sure that the results match those you obtained from the summary command."
   ]
  },
  {
   "cell_type": "markdown",
   "metadata": {},
   "source": [
    "## GOALS\n",
    "Multiple R-squared:  0.7296,\tAdjusted R-squared:  0.7151 \n",
    "F-statistic: 50.36 on 3 and 56 DF,  p-value: 6.521e-16"
   ]
  },
  {
   "cell_type": "markdown",
   "metadata": {},
   "source": [
    "## R2"
   ]
  },
  {
   "cell_type": "code",
   "execution_count": 12,
   "metadata": {},
   "outputs": [
    {
     "name": "stdout",
     "output_type": "stream",
     "text": [
      "[1] 0.7295544\n"
     ]
    }
   ],
   "source": [
    "mod0 = lm(len ~ 1, data=tooth)\n",
    "tooth_hat_full = predict(mod3)\n",
    "tooth_hat_null =  predict(mod0)\n",
    "\n",
    "ss3 = sum((tooth$len - tooth_hat_full)^2)\n",
    "ss0 = sum((tooth$len - tooth_hat_null)^2)\n",
    "\n",
    "R2 = 1 - (ss3/ss0)\n",
    "print(R2)"
   ]
  },
  {
   "cell_type": "markdown",
   "metadata": {},
   "source": [
    "## Adjusted R2"
   ]
  },
  {
   "cell_type": "code",
   "execution_count": 13,
   "metadata": {},
   "outputs": [
    {
     "name": "stdout",
     "output_type": "stream",
     "text": [
      "[1] 0.7150662\n"
     ]
    }
   ],
   "source": [
    "n = length(mod3$model$len)\n",
    "k = length(mod3$coefficients)\n",
    "\n",
    "R2adj = 1 - (ss3/(n-k))/(ss0/(n-1))\n",
    "print(R2adj)"
   ]
  },
  {
   "cell_type": "markdown",
   "metadata": {},
   "source": [
    "## F value"
   ]
  },
  {
   "cell_type": "code",
   "execution_count": 14,
   "metadata": {},
   "outputs": [
    {
     "name": "stdout",
     "output_type": "stream",
     "text": [
      "[1] 50.35522\n"
     ]
    }
   ],
   "source": [
    "F_val = ((ss0 - ss3)/(k-1))/((ss3)/(n-k))\n",
    "print(F_val)"
   ]
  },
  {
   "cell_type": "markdown",
   "metadata": {},
   "source": [
    "## P value"
   ]
  },
  {
   "cell_type": "code",
   "execution_count": 15,
   "metadata": {
    "collapsed": true
   },
   "outputs": [],
   "source": [
    "require(stats)\n",
    "pfval = 1 - pf(F_val, df1 = (k-1), df2 = n-k)"
   ]
  },
  {
   "cell_type": "markdown",
   "metadata": {},
   "source": [
    "# Exercise 5\n",
    "Using 10 fold cross-validation estimate the cross-validated\n",
    "R2 for the three models.  Make a plot of average R2CV versus number of parameters."
   ]
  },
  {
   "cell_type": "code",
   "execution_count": 16,
   "metadata": {
    "collapsed": true
   },
   "outputs": [],
   "source": [
    "df = tooth\n",
    "\n",
    "#find the number of folds\n",
    "n_folds = 10\n",
    "\n",
    "#get rid of nas, shuffle data\n",
    "df <-na.omit(df[sample(nrow(df)),])\n",
    "\n",
    "#create folds\n",
    "folds <- cut(seq(1,nrow(df)),breaks=n_folds,labels=FALSE)\n",
    "\n",
    "#create arrays for results\n",
    "R2cv_mod1 = array(data=0, dim=n_folds)\n",
    "R2cv_mod2 = array(data=0, dim=n_folds)\n",
    "R2cv_mod3 = array(data=0, dim=n_folds)\n",
    "\n",
    "#for loop\n",
    "for(i in 1:n_folds){\n",
    "  \n",
    "  #split up data\n",
    "  test = df[folds==i,]\n",
    "  train = df[folds !=i,]\n",
    "  \n",
    "  #fit models\n",
    "  mod0 = lm(len ~ 1, data=train)\n",
    "  mod1 = lm(len ~ supp, data=train)\n",
    "  mod2 = lm(len ~ supp + dose, data=train)\n",
    "  mod3 = lm(len ~ supp*dose, data=train)\n",
    "  \n",
    "  yhat_mod0 = predict(mod0, data=test)\n",
    "  yhat_mod1 = predict(mod1, data=test)\n",
    "  yhat_mod2 = predict(mod2, data=test)\n",
    "  yhat_mod3 = predict(mod3, data=test)\n",
    "  \n",
    "  ss0 = sum((yhat_mod0 - test$len)^2)\n",
    "  ss1 = sum((yhat_mod1 - test$len)^2)\n",
    "  ss2 = sum((yhat_mod2 - test$len)^2)\n",
    "  ss3 = sum((yhat_mod3 - test$len)^2)\n",
    "  \n",
    "  R2cv_mod1[i] = ss1/ss0\n",
    "  R2cv_mod2[i] = ss2/ss0\n",
    "  R2cv_mod3[i] = ss3/ss0\n",
    "  \n",
    "}\n",
    "\n",
    "meanR2_1 = mean(R2cv_mod1)\n",
    "meanR2_2 = mean(R2cv_mod2)\n",
    "meanR2_3 = mean(R2cv_mod3)\n",
    "\n",
    "means = c(meanR2_1, meanR2_2, meanR2_3)\n",
    "params = c(m1len, m2len, m3len)\n",
    "\n",
    "#plot(params, means, type='l')"
   ]
  },
  {
   "cell_type": "markdown",
   "metadata": {},
   "source": [
    "# Exercise 6.\n",
    "First, use the appropriate classical commands to statiscally compare the single line model to\n",
    " the full model. \n",
    " \n",
    " Second, using the results of the cross-validation in 5, determined whether you would reach the same conclusion. \n",
    " \n",
    " For example compare the mean R2cv plus or minus two standard errors to assess whether one is significantly\n",
    " better."
   ]
  },
  {
   "cell_type": "markdown",
   "metadata": {},
   "source": [
    "### Traditional methods"
   ]
  },
  {
   "cell_type": "code",
   "execution_count": 17,
   "metadata": {
    "scrolled": true
   },
   "outputs": [
    {
     "data": {
      "text/html": [
       "<table>\n",
       "<thead><tr><th scope=col>Res.Df</th><th scope=col>RSS</th><th scope=col>Df</th><th scope=col>Sum of Sq</th><th scope=col>F</th><th scope=col>Pr(&gt;F)</th></tr></thead>\n",
       "<tbody>\n",
       "\t<tr><td>52          </td><td>2663.3760   </td><td>NA          </td><td>      NA    </td><td>      NA    </td><td>          NA</td></tr>\n",
       "\t<tr><td>50          </td><td> 803.7729   </td><td> 2          </td><td>1859.603    </td><td>57.83981    </td><td>9.829296e-14</td></tr>\n",
       "</tbody>\n",
       "</table>\n"
      ],
      "text/latex": [
       "\\begin{tabular}{r|llllll}\n",
       " Res.Df & RSS & Df & Sum of Sq & F & Pr(>F)\\\\\n",
       "\\hline\n",
       "\t 52           & 2663.3760    & NA           &       NA     &       NA     &           NA\\\\\n",
       "\t 50           &  803.7729    &  2           & 1859.603     & 57.83981     & 9.829296e-14\\\\\n",
       "\\end{tabular}\n"
      ],
      "text/markdown": [
       "\n",
       "Res.Df | RSS | Df | Sum of Sq | F | Pr(>F) | \n",
       "|---|---|\n",
       "| 52           | 2663.3760    | NA           |       NA     |       NA     |           NA | \n",
       "| 50           |  803.7729    |  2           | 1859.603     | 57.83981     | 9.829296e-14 | \n",
       "\n",
       "\n"
      ],
      "text/plain": [
       "  Res.Df RSS       Df Sum of Sq F        Pr(>F)      \n",
       "1 52     2663.3760 NA       NA        NA           NA\n",
       "2 50      803.7729  2 1859.603  57.83981 9.829296e-14"
      ]
     },
     "metadata": {},
     "output_type": "display_data"
    }
   ],
   "source": [
    "anova(mod1, mod3)"
   ]
  },
  {
   "cell_type": "code",
   "execution_count": 18,
   "metadata": {},
   "outputs": [
    {
     "name": "stdout",
     "output_type": "stream",
     "text": [
      "[1] 0.6982127\n",
      "[1] 0.6861413\n",
      "[1] 0.6316379\n"
     ]
    }
   ],
   "source": [
    "SSfull = sum((mod3$residuals)^2)\n",
    "SSnull = sum((mod1$residuals)^2)\n",
    "\n",
    "kfull = length(mod3$coefficients)\n",
    "ksimple = length(mod1$coefficients)\n",
    "\n",
    "n = length(mod3$model$len)\n",
    "\n",
    "#calculating difference in quality using R2 and R2adjusted\n",
    "R2 = 1-SSfull/SSnull #atypical way to do this\n",
    "print(R2)\n",
    "\n",
    "R2adj = 1-(SSfull/(n-kfull))/(SSnull/(n-ksimple))\n",
    "print(R2adj)\n",
    "\n",
    "\n",
    "#diff method 2\n",
    "R2change = summary(mod3)$r.squared - summary(mod1)$r.squared\n",
    "print(R2change)\n",
    "\n",
    "#F val and p val\n",
    "\n",
    "q = kfull - ksimple\n",
    "\n",
    "Fval = ((SSnull - SSfull)/q)/(SSfull/(n-kfull))\n",
    "\n",
    "pval = pf(Fval, df1=q, df2 = n-k, lower.tail=FALSE)\n"
   ]
  },
  {
   "cell_type": "code",
   "execution_count": 19,
   "metadata": {},
   "outputs": [
    {
     "data": {
      "text/html": [
       "57.839813373586"
      ],
      "text/latex": [
       "57.839813373586"
      ],
      "text/markdown": [
       "57.839813373586"
      ],
      "text/plain": [
       "[1] 57.83981"
      ]
     },
     "metadata": {},
     "output_type": "display_data"
    }
   ],
   "source": [
    "Fval"
   ]
  },
  {
   "cell_type": "code",
   "execution_count": 20,
   "metadata": {},
   "outputs": [
    {
     "data": {
      "text/html": [
       "9.82929617447117e-14"
      ],
      "text/latex": [
       "9.82929617447117e-14"
      ],
      "text/markdown": [
       "9.82929617447117e-14"
      ],
      "text/plain": [
       "[1] 9.829296e-14"
      ]
     },
     "metadata": {},
     "output_type": "display_data"
    }
   ],
   "source": [
    "pval"
   ]
  },
  {
   "cell_type": "markdown",
   "metadata": {},
   "source": [
    "According to these results, model 3 does work significantly better than model 1. The F value of 58 with a p-value of <.00001 implies that model 3 is significantly better than model 1, as that F value would be incredibly unlikely under the null hypothesis tha the model peformance is identical"
   ]
  },
  {
   "cell_type": "markdown",
   "metadata": {},
   "source": [
    "### Non-traditional methods"
   ]
  },
  {
   "cell_type": "code",
   "execution_count": 21,
   "metadata": {},
   "outputs": [
    {
     "data": {
      "text/plain": [
       "   Min. 1st Qu.  Median    Mean 3rd Qu.    Max. \n",
       " 0.9639  1.0104  1.0820  1.0905  1.1110  1.3495 "
      ]
     },
     "metadata": {},
     "output_type": "display_data"
    }
   ],
   "source": [
    "summary(R2cv_mod1)"
   ]
  },
  {
   "cell_type": "code",
   "execution_count": 22,
   "metadata": {},
   "outputs": [
    {
     "data": {
      "text/plain": [
       "   Min. 1st Qu.  Median    Mean 3rd Qu.    Max. \n",
       "  1.400   1.528   1.757   1.805   2.136   2.240 "
      ]
     },
     "metadata": {},
     "output_type": "display_data"
    }
   ],
   "source": [
    "summary(R2cv_mod3)"
   ]
  },
  {
   "cell_type": "code",
   "execution_count": 26,
   "metadata": {
    "collapsed": true
   },
   "outputs": [],
   "source": [
    "se_mod1 = sd(R2cv_mod1)/sqrt((10))"
   ]
  },
  {
   "cell_type": "code",
   "execution_count": 29,
   "metadata": {
    "collapsed": true
   },
   "outputs": [],
   "source": [
    "se_mod3 = sd(R2cv_mod3)/sqrt((10))"
   ]
  },
  {
   "cell_type": "code",
   "execution_count": 31,
   "metadata": {},
   "outputs": [
    {
     "data": {
      "text/html": [
       "0.035026139779076"
      ],
      "text/latex": [
       "0.035026139779076"
      ],
      "text/markdown": [
       "0.035026139779076"
      ],
      "text/plain": [
       "[1] 0.03502614"
      ]
     },
     "metadata": {},
     "output_type": "display_data"
    }
   ],
   "source": [
    "se_mod1"
   ]
  },
  {
   "cell_type": "code",
   "execution_count": 32,
   "metadata": {},
   "outputs": [
    {
     "data": {
      "text/html": [
       "0.10538800444046"
      ],
      "text/latex": [
       "0.10538800444046"
      ],
      "text/markdown": [
       "0.10538800444046"
      ],
      "text/plain": [
       "[1] 0.105388"
      ]
     },
     "metadata": {},
     "output_type": "display_data"
    }
   ],
   "source": [
    "se_mod3"
   ]
  },
  {
   "cell_type": "code",
   "execution_count": 34,
   "metadata": {},
   "outputs": [
    {
     "data": {
      "text/html": [
       "TRUE"
      ],
      "text/latex": [
       "TRUE"
      ],
      "text/markdown": [
       "TRUE"
      ],
      "text/plain": [
       "[1] TRUE"
      ]
     },
     "metadata": {},
     "output_type": "display_data"
    }
   ],
   "source": [
    "(meanR2_3 - se_mod3*2)>(meanR2_1 - se_mod1*2)"
   ]
  },
  {
   "cell_type": "code",
   "execution_count": null,
   "metadata": {
    "collapsed": true
   },
   "outputs": [],
   "source": []
  }
 ],
 "metadata": {
  "anaconda-cloud": {},
  "kernelspec": {
   "display_name": "R",
   "language": "R",
   "name": "ir"
  },
  "language_info": {
   "codemirror_mode": "r",
   "file_extension": ".r",
   "mimetype": "text/x-r-source",
   "name": "R",
   "pygments_lexer": "r",
   "version": "3.4.2"
  }
 },
 "nbformat": 4,
 "nbformat_minor": 1
}
