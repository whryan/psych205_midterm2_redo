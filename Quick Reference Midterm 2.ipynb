{
 "cells": [
  {
   "cell_type": "markdown",
   "metadata": {},
   "source": [
    "# Quick Reference for Midterm 2\n",
    "The major parts of Tutorials 5-6 and the practice midterm"
   ]
  },
  {
   "cell_type": "code",
   "execution_count": 2,
   "metadata": {
    "scrolled": true
   },
   "outputs": [
    {
     "name": "stderr",
     "output_type": "stream",
     "text": [
      "Loading required package: Hmisc\n",
      "Warning message:\n",
      "\"package 'Hmisc' was built under R version 3.4.3\"Loading required package: lattice\n",
      "Loading required package: survival\n",
      "Loading required package: Formula\n",
      "Loading required package: ggplot2\n",
      "\n",
      "Attaching package: 'Hmisc'\n",
      "\n",
      "The following objects are masked from 'package:base':\n",
      "\n",
      "    format.pval, units\n",
      "\n",
      "Loading required package: psych\n",
      "\n",
      "Attaching package: 'psych'\n",
      "\n",
      "The following object is masked from 'package:Hmisc':\n",
      "\n",
      "    describe\n",
      "\n",
      "The following objects are masked from 'package:ggplot2':\n",
      "\n",
      "    %+%, alpha\n",
      "\n",
      "The following object is masked from 'package:car':\n",
      "\n",
      "    logit\n",
      "\n"
     ]
    }
   ],
   "source": [
    "require(car)\n",
    "require(Hmisc)\n",
    "require(stats)\n",
    "require(psych)"
   ]
  },
  {
   "cell_type": "code",
   "execution_count": 18,
   "metadata": {
    "collapsed": true
   },
   "outputs": [],
   "source": [
    "df = ToothGrowth"
   ]
  },
  {
   "cell_type": "markdown",
   "metadata": {},
   "source": [
    "## Model Creation"
   ]
  },
  {
   "cell_type": "code",
   "execution_count": 24,
   "metadata": {},
   "outputs": [
    {
     "name": "stdout",
     "output_type": "stream",
     "text": [
      "[1] 1\n",
      "[1] 2\n",
      "[1] 3\n",
      "[1] 4\n"
     ]
    }
   ],
   "source": [
    "mod0 = lm(len ~1, data=df) #Mean model\n",
    "print(length(coef(mod0)))\n",
    "#1 parameter\n",
    "\n",
    "mod1 = lm(len ~ dose, data=df) #Single line, single intercept model\n",
    "print(length(coef(mod1)))\n",
    "# 2 parameters (intercept, slope)\n",
    "\n",
    "mod2 = lm(len ~ supp + dose, data=df) #Double line, two intercepts\n",
    "print(length(coef(mod2)))\n",
    "#3 parameters\n",
    "\n",
    "mod3 = lm(len ~supp*dose, data=df) #Double line, two intercepts, two slopes\n",
    "print(length(coef(mod3)))\n",
    "#4 parameters"
   ]
  },
  {
   "cell_type": "markdown",
   "metadata": {},
   "source": [
    "### Scatterplots "
   ]
  },
  {
   "cell_type": "code",
   "execution_count": 20,
   "metadata": {
    "scrolled": true
   },
   "outputs": [
    {
     "data": {
      "image/png": "[encoded data removed]",
      "text/plain": [
       "plot without title"
      ]
     },
     "metadata": {},
     "output_type": "display_data"
    }
   ],
   "source": [
    "#Of just one term\n",
    "scatterplot(len~dose, data=ToothGrowth)"
   ]
  },
  {
   "cell_type": "code",
   "execution_count": 21,
   "metadata": {
    "scrolled": true
   },
   "outputs": [
    {
     "data": {
      "image/png": "[encoded data removed]",
      "text/plain": [
       "plot without title"
      ]
     },
     "metadata": {},
     "output_type": "display_data"
    }
   ],
   "source": [
    "#Of all data, with interaction\n",
    "scatterplot(len~dose*supp, data=ToothGrowth)"
   ]
  },
  {
   "cell_type": "markdown",
   "metadata": {},
   "source": [
    "## Calculating R2, R2 Adj, F-stat and P Value"
   ]
  },
  {
   "cell_type": "markdown",
   "metadata": {},
   "source": [
    "Getting it directly for a model:"
   ]
  },
  {
   "cell_type": "code",
   "execution_count": 34,
   "metadata": {},
   "outputs": [
    {
     "data": {
      "text/html": [
       "0.715066211089405"
      ],
      "text/latex": [
       "0.715066211089405"
      ],
      "text/markdown": [
       "0.715066211089405"
      ],
      "text/plain": [
       "[1] 0.7150662"
      ]
     },
     "metadata": {},
     "output_type": "display_data"
    },
    {
     "data": {
      "text/html": [
       "0.729554369847571"
      ],
      "text/latex": [
       "0.729554369847571"
      ],
      "text/markdown": [
       "0.729554369847571"
      ],
      "text/plain": [
       "[1] 0.7295544"
      ]
     },
     "metadata": {},
     "output_type": "display_data"
    },
    {
     "data": {
      "text/html": [
       "<table>\n",
       "<thead><tr><th scope=col>Res.Df</th><th scope=col>RSS</th><th scope=col>Df</th><th scope=col>Sum of Sq</th><th scope=col>F</th><th scope=col>Pr(&gt;F)</th></tr></thead>\n",
       "<tbody>\n",
       "\t<tr><td>56          </td><td> 933.6349   </td><td>NA          </td><td>       NA   </td><td>      NA    </td><td>          NA</td></tr>\n",
       "\t<tr><td>59          </td><td>3452.2093   </td><td>-3          </td><td>-2518.574   </td><td>50.35522    </td><td>6.520791e-16</td></tr>\n",
       "</tbody>\n",
       "</table>\n"
      ],
      "text/latex": [
       "\\begin{tabular}{r|llllll}\n",
       " Res.Df & RSS & Df & Sum of Sq & F & Pr(>F)\\\\\n",
       "\\hline\n",
       "\t 56           &  933.6349    & NA           &        NA    &       NA     &           NA\\\\\n",
       "\t 59           & 3452.2093    & -3           & -2518.574    & 50.35522     & 6.520791e-16\\\\\n",
       "\\end{tabular}\n"
      ],
      "text/markdown": [
       "\n",
       "Res.Df | RSS | Df | Sum of Sq | F | Pr(>F) | \n",
       "|---|---|\n",
       "| 56           |  933.6349    | NA           |        NA    |       NA     |           NA | \n",
       "| 59           | 3452.2093    | -3           | -2518.574    | 50.35522     | 6.520791e-16 | \n",
       "\n",
       "\n"
      ],
      "text/plain": [
       "  Res.Df RSS       Df Sum of Sq F        Pr(>F)      \n",
       "1 56      933.6349 NA        NA       NA           NA\n",
       "2 59     3452.2093 -3 -2518.574 50.35522 6.520791e-16"
      ]
     },
     "metadata": {},
     "output_type": "display_data"
    }
   ],
   "source": [
    "#R2 and R2 adjusted\n",
    "summary(mod3)$adj.r.squared\n",
    "summary(mod3)$r.squared\n",
    "\n",
    "#F statistic and P values\n",
    "anova(mod3, mod0)"
   ]
  },
  {
   "cell_type": "code",
   "execution_count": 38,
   "metadata": {},
   "outputs": [
    {
     "data": {
      "text/plain": [
       "            Df Sum Sq Mean Sq F value   Pr(>F)    \n",
       "dose         1 2224.3  2224.3 133.415  < 2e-16 ***\n",
       "supp         1  205.3   205.3  12.317 0.000894 ***\n",
       "dose:supp    1   88.9    88.9   5.333 0.024631 *  \n",
       "Residuals   56  933.6    16.7                     \n",
       "---\n",
       "Signif. codes:  0 '***' 0.001 '**' 0.01 '*' 0.05 '.' 0.1 ' ' 1"
      ]
     },
     "metadata": {},
     "output_type": "display_data"
    }
   ],
   "source": [
    "# Equivalent to:\n",
    "summary(aov(len~dose*supp, data=df))"
   ]
  },
  {
   "cell_type": "code",
   "execution_count": 39,
   "metadata": {},
   "outputs": [
    {
     "data": {
      "text/plain": [
       "\n",
       "Call:\n",
       "lm(formula = len ~ dose * supp, data = df)\n",
       "\n",
       "Residuals:\n",
       "    Min      1Q  Median      3Q     Max \n",
       "-8.2264 -2.8462  0.0504  2.2893  7.9386 \n",
       "\n",
       "Coefficients:\n",
       "            Estimate Std. Error t value Pr(>|t|)    \n",
       "(Intercept)   11.550      1.581   7.304 1.09e-09 ***\n",
       "dose           7.811      1.195   6.534 2.03e-08 ***\n",
       "suppVC        -8.255      2.236  -3.691 0.000507 ***\n",
       "dose:suppVC    3.904      1.691   2.309 0.024631 *  \n",
       "---\n",
       "Signif. codes:  0 '***' 0.001 '**' 0.01 '*' 0.05 '.' 0.1 ' ' 1\n",
       "\n",
       "Residual standard error: 4.083 on 56 degrees of freedom\n",
       "Multiple R-squared:  0.7296,\tAdjusted R-squared:  0.7151 \n",
       "F-statistic: 50.36 on 3 and 56 DF,  p-value: 6.521e-16\n"
      ]
     },
     "metadata": {},
     "output_type": "display_data"
    }
   ],
   "source": [
    "summary(lm(len~dose*supp, data=df))"
   ]
  },
  {
   "cell_type": "markdown",
   "metadata": {},
   "source": [
    "### R2 and R2 adjusted"
   ]
  },
  {
   "cell_type": "code",
   "execution_count": 29,
   "metadata": {},
   "outputs": [
    {
     "name": "stdout",
     "output_type": "stream",
     "text": [
      "[1] 0.7295544\n"
     ]
    }
   ],
   "source": [
    "y_hat_full = predict(mod3)\n",
    "y_hat_null =  predict(mod0)\n",
    "\n",
    "ss3 = sum((df$len - y_hat_full)^2)\n",
    "ss0 = sum((df$len - y_hat_null)^2)\n",
    "\n",
    "R2 = 1 - (ss3/ss0)\n",
    "print(R2)"
   ]
  },
  {
   "cell_type": "code",
   "execution_count": 30,
   "metadata": {},
   "outputs": [
    {
     "name": "stdout",
     "output_type": "stream",
     "text": [
      "[1] 0.7150662\n"
     ]
    }
   ],
   "source": [
    "n = length(mod3$model$len)\n",
    "k = length(mod3$coefficients)\n",
    "\n",
    "R2adj = 1 - (ss3/(n-k))/(ss0/(n-1))\n",
    "print(R2adj)"
   ]
  },
  {
   "cell_type": "markdown",
   "metadata": {},
   "source": [
    "### F-statistic and p-value"
   ]
  },
  {
   "cell_type": "code",
   "execution_count": 31,
   "metadata": {},
   "outputs": [
    {
     "name": "stdout",
     "output_type": "stream",
     "text": [
      "[1] 50.35522\n"
     ]
    }
   ],
   "source": [
    "F_val = ((ss0 - ss3)/(k-1))/((ss3)/(n-k))\n",
    "print(F_val)"
   ]
  },
  {
   "cell_type": "code",
   "execution_count": 32,
   "metadata": {},
   "outputs": [
    {
     "name": "stdout",
     "output_type": "stream",
     "text": [
      "[1] 6.661338e-16\n"
     ]
    }
   ],
   "source": [
    "require(stats)\n",
    "pfval = 1 - pf(F_val, df1 = (k-1), df2 = n-k)\n",
    "print(pfval)"
   ]
  },
  {
   "cell_type": "markdown",
   "metadata": {},
   "source": [
    "## Cross validation (R2 cross-validated)"
   ]
  },
  {
   "cell_type": "markdown",
   "metadata": {},
   "source": [
    "Prepare data for cross validation"
   ]
  },
  {
   "cell_type": "code",
   "execution_count": 107,
   "metadata": {
    "collapsed": true
   },
   "outputs": [],
   "source": [
    "nCV <- 10\n",
    "\n",
    "R2cvs_mod1 <- numeric(nCV)\n",
    "R2cvs_mod2 <- numeric(nCV)\n",
    "R2cvs_mod3 <- numeric(nCV)\n",
    "R2cvs_mod3_vs_mod1 = numeric(nCV)\n",
    "\n",
    "folds <- cut(sample(nrow(df)),breaks=nCV,labels=FALSE)"
   ]
  },
  {
   "cell_type": "markdown",
   "metadata": {},
   "source": [
    "Perform 10-fold cross validation"
   ]
  },
  {
   "cell_type": "code",
   "execution_count": 109,
   "metadata": {},
   "outputs": [],
   "source": [
    "#Perform n.folds fold cross validation\n",
    "for(i in 1:nCV){\n",
    "    #Segment your data by fold using the which() function \n",
    "    testIndexes <- which(folds==i,arr.ind=TRUE)\n",
    "    testData <- ToothGrowth[testIndexes, ]\n",
    "    trainData <- ToothGrowth[-testIndexes, ]\n",
    "    \n",
    "    # The three models\n",
    "    mod1_cv <- lm(len ~ dose, data=trainData)\n",
    "    mod2_cv <- lm(len ~ dose + supp, data=trainData)\n",
    "    mod3_cv <- lm(len ~ dose*supp, data=trainData)\n",
    "    \n",
    "    # Get predictions\n",
    "    yhat_mod1_cv <- predict(mod1_cv, newdata = testData)\n",
    "    yhat_mod2_cv <- predict(mod2_cv, newdata = testData)\n",
    "    yhat_mod3_cv <- predict(mod3_cv, newdata = testData)\n",
    "    mean_cv <- mean(testData$len)\n",
    "\n",
    "    # Calculate R2\n",
    "    SStot <- sum((testData$len - mean_cv)^2)\n",
    "    SSE_mod1 <- sum((testData$len - yhat_mod1_cv)^2)\n",
    "    SSE_mod2 <- sum((testData$len - yhat_mod2_cv)^2)\n",
    "    SSE_mod3 <- sum((testData$len - yhat_mod3_cv)^2)\n",
    "    \n",
    "    #this finds R2cvs\n",
    "    R2cvs_mod1[i] <- (SStot-SSE_mod1)/SStot\n",
    "    R2cvs_mod2[i] <- (SStot-SSE_mod2)/SStot\n",
    "    R2cvs_mod3[i] <- (SStot-SSE_mod3)/SStot\n",
    "    \n",
    "    #This finds the R2 cv comparing models 1 and 3 (from Tutorial 6)\n",
    "    R2cvs_mod3_vs_mod1[i] = 1-SSE_mod3/SSE_mod1\n",
    "}"
   ]
  },
  {
   "cell_type": "markdown",
   "metadata": {},
   "source": [
    "### Find mean R2 CVs"
   ]
  },
  {
   "cell_type": "code",
   "execution_count": 46,
   "metadata": {
    "collapsed": true
   },
   "outputs": [],
   "source": [
    "R2cvs <- c( mean(R2cvs_mod1), mean(R2cvs_mod2), mean(R2cvs_mod3) ) "
   ]
  },
  {
   "cell_type": "code",
   "execution_count": 47,
   "metadata": {},
   "outputs": [
    {
     "data": {
      "text/html": [
       "<ol class=list-inline>\n",
       "\t<li>0.446182251873472</li>\n",
       "\t<li>0.540411370544852</li>\n",
       "\t<li>0.587403581906098</li>\n",
       "</ol>\n"
      ],
      "text/latex": [
       "\\begin{enumerate*}\n",
       "\\item 0.446182251873472\n",
       "\\item 0.540411370544852\n",
       "\\item 0.587403581906098\n",
       "\\end{enumerate*}\n"
      ],
      "text/markdown": [
       "1. 0.446182251873472\n",
       "2. 0.540411370544852\n",
       "3. 0.587403581906098\n",
       "\n",
       "\n"
      ],
      "text/plain": [
       "[1] 0.4461823 0.5404114 0.5874036"
      ]
     },
     "metadata": {},
     "output_type": "display_data"
    }
   ],
   "source": [
    "R2cvs"
   ]
  },
  {
   "cell_type": "markdown",
   "metadata": {},
   "source": [
    "### Standard error for Cross-validated R2\n",
    "Standard error = sd(R2_cvs)/sqrt(number_folds)\n",
    "\n",
    "N in this case is the number of different R2_cvs you calculated! Not the overall sample size!"
   ]
  },
  {
   "cell_type": "code",
   "execution_count": 48,
   "metadata": {
    "collapsed": true
   },
   "outputs": [],
   "source": [
    "R2cvs_SE <- c( sd(R2cvs_mod1)/sqrt(nCV), sd(R2cvs_mod2)/sqrt(nCV), mean(R2cvs_mod3)/sqrt(nCV) ) "
   ]
  },
  {
   "cell_type": "code",
   "execution_count": 50,
   "metadata": {},
   "outputs": [
    {
     "data": {
      "text/html": [
       "<ol class=list-inline>\n",
       "\t<li>0.163328254404108</li>\n",
       "\t<li>0.123389967795185</li>\n",
       "\t<li>0.185753322456454</li>\n",
       "</ol>\n"
      ],
      "text/latex": [
       "\\begin{enumerate*}\n",
       "\\item 0.163328254404108\n",
       "\\item 0.123389967795185\n",
       "\\item 0.185753322456454\n",
       "\\end{enumerate*}\n"
      ],
      "text/markdown": [
       "1. 0.163328254404108\n",
       "2. 0.123389967795185\n",
       "3. 0.185753322456454\n",
       "\n",
       "\n"
      ],
      "text/plain": [
       "[1] 0.1633283 0.1233900 0.1857533"
      ]
     },
     "metadata": {},
     "output_type": "display_data"
    }
   ],
   "source": [
    "R2cvs_SE"
   ]
  },
  {
   "cell_type": "markdown",
   "metadata": {},
   "source": [
    "### Graph R2 cv as a function of number of model parameters"
   ]
  },
  {
   "cell_type": "code",
   "execution_count": 52,
   "metadata": {},
   "outputs": [
    {
     "data": {
      "text/html": [
       "<ol class=list-inline>\n",
       "\t<li>2</li>\n",
       "\t<li>3</li>\n",
       "\t<li>4</li>\n",
       "</ol>\n"
      ],
      "text/latex": [
       "\\begin{enumerate*}\n",
       "\\item 2\n",
       "\\item 3\n",
       "\\item 4\n",
       "\\end{enumerate*}\n"
      ],
      "text/markdown": [
       "1. 2\n",
       "2. 3\n",
       "3. 4\n",
       "\n",
       "\n"
      ],
      "text/plain": [
       "[1] 2 3 4"
      ]
     },
     "metadata": {},
     "output_type": "display_data"
    }
   ],
   "source": [
    "param_ct = c(length(coef(mod1_cv)), length(coef(mod2_cv)), length(coef(mod3_cv)))\n",
    "param_ct"
   ]
  },
  {
   "cell_type": "code",
   "execution_count": 63,
   "metadata": {
    "scrolled": true
   },
   "outputs": [
    {
     "data": {
      "image/png": "[encoded data removed]",
      "text/plain": [
       "plot without title"
      ]
     },
     "metadata": {},
     "output_type": "display_data"
    }
   ],
   "source": [
    "require(Hmisc)\n",
    "plot(param_ct, R2cvs, type=\"l\", ylim=c(0,.8)) #plot parameters vs R2cv\n",
    "errbar(param_ct, R2cvs, R2cvs+R2cvs_SE, R2cvs-R2cvs_SE, add=T, pch=1, cap=.1) \n",
    "#add error bars for standard error"
   ]
  },
  {
   "cell_type": "markdown",
   "metadata": {},
   "source": [
    "## Model comparison"
   ]
  },
  {
   "cell_type": "markdown",
   "metadata": {},
   "source": [
    "### Cross-validated model comparison"
   ]
  },
  {
   "cell_type": "code",
   "execution_count": 110,
   "metadata": {},
   "outputs": [
    {
     "name": "stdout",
     "output_type": "stream",
     "text": [
      "[1] \"Rcv 1 Line 0.514 +- 0.208\"\n",
      "[1] \"Rcv 2 Line 0.600 +- 0.144\"\n"
     ]
    }
   ],
   "source": [
    "print(sprintf('Rcv 1 Line %.3f +- %.3f', mean(R2cvs_mod1), 2.0*sd(R2cvs_mod1)/sqrt(nCV) ))\n",
    "print(sprintf('Rcv 2 Line %.3f +- %.3f', mean(R2cvs_mod3), 2.0*sd(R2cvs_mod3)/sqrt(nCV) ))"
   ]
  },
  {
   "cell_type": "code",
   "execution_count": 67,
   "metadata": {},
   "outputs": [
    {
     "data": {
      "text/html": [
       "0.772838760681689"
      ],
      "text/latex": [
       "0.772838760681689"
      ],
      "text/markdown": [
       "0.772838760681689"
      ],
      "text/plain": [
       "[1] 0.7728388"
      ]
     },
     "metadata": {},
     "output_type": "display_data"
    }
   ],
   "source": [
    "mean(R2cvs_mod1) + 2.0*sd(R2cvs_mod1)/sqrt(nCV)"
   ]
  },
  {
   "cell_type": "code",
   "execution_count": 69,
   "metadata": {},
   "outputs": [
    {
     "data": {
      "text/html": [
       "0.393084941482684"
      ],
      "text/latex": [
       "0.393084941482684"
      ],
      "text/markdown": [
       "0.393084941482684"
      ],
      "text/plain": [
       "[1] 0.3930849"
      ]
     },
     "metadata": {},
     "output_type": "display_data"
    }
   ],
   "source": [
    "mean(R2cvs_mod3) - 2.0*sd(R2cvs_mod3)/sqrt(nCV)"
   ]
  },
  {
   "cell_type": "markdown",
   "metadata": {},
   "source": [
    "There is significant overlap in the cross-validated R2 for both models, so there is not a significant difference. \n",
    "\n",
    "Not significant if: \n",
    "        Mean R2CV for worse model + 2 x SE is greater than or equal to Mean R2CV for better model + 2 x SE"
   ]
  },
  {
   "cell_type": "markdown",
   "metadata": {},
   "source": [
    "### Summary\n",
    "This lets you get the mean of a statistic, as well as the standard error of that statistic (ie sd in this case)\n",
    "\n",
    "IF R2 cv is different from 0, then you know. Use your standard error - 2*standard error (ie standard deviation) is 5%. \n",
    "So take the R2 cv and subtract sd(R2cv)*2 (remember sd(R2cv)=SE)\n",
    "\n",
    "Rule of thumb -- need a minimum of 10 df on your testing df -- ie if you are training one with 5 you need 50 \n",
    "\n",
    "This is another way to visualize these statistics -- it lets you see the 95% confidence interval and mean of your cross validated R2 estimates easily\n",
    "if the tail hit 0 then that would be bad!\n"
   ]
  },
  {
   "cell_type": "code",
   "execution_count": 112,
   "metadata": {
    "scrolled": true
   },
   "outputs": [
    {
     "data": {
      "image/png": "[encoded data removed]",
      "text/plain": [
       "plot without title"
      ]
     },
     "metadata": {},
     "output_type": "display_data"
    }
   ],
   "source": [
    "boxplot(cbind(R2cvs_mod1, R2cvs_mod3, R2cvs_mod3_vs_mod1))\n",
    "#You can see that the tail is well below zero of the compared R2, \n",
    "#and that there is huge overlap between them"
   ]
  },
  {
   "cell_type": "markdown",
   "metadata": {},
   "source": [
    "### Traditional model comparison (ANOVAs)"
   ]
  },
  {
   "cell_type": "code",
   "execution_count": 64,
   "metadata": {},
   "outputs": [
    {
     "data": {
      "text/html": [
       "<table>\n",
       "<thead><tr><th scope=col>Res.Df</th><th scope=col>RSS</th><th scope=col>Df</th><th scope=col>Sum of Sq</th><th scope=col>F</th><th scope=col>Pr(&gt;F)</th></tr></thead>\n",
       "<tbody>\n",
       "\t<tr><td>58          </td><td>1227.9050   </td><td>NA          </td><td>      NA    </td><td>      NA    </td><td>          NA</td></tr>\n",
       "\t<tr><td>56          </td><td> 933.6349   </td><td> 2          </td><td>294.2701    </td><td>8.825251    </td><td>0.0004659558</td></tr>\n",
       "</tbody>\n",
       "</table>\n"
      ],
      "text/latex": [
       "\\begin{tabular}{r|llllll}\n",
       " Res.Df & RSS & Df & Sum of Sq & F & Pr(>F)\\\\\n",
       "\\hline\n",
       "\t 58           & 1227.9050    & NA           &       NA     &       NA     &           NA\\\\\n",
       "\t 56           &  933.6349    &  2           & 294.2701     & 8.825251     & 0.0004659558\\\\\n",
       "\\end{tabular}\n"
      ],
      "text/markdown": [
       "\n",
       "Res.Df | RSS | Df | Sum of Sq | F | Pr(>F) | \n",
       "|---|---|\n",
       "| 58           | 1227.9050    | NA           |       NA     |       NA     |           NA | \n",
       "| 56           |  933.6349    |  2           | 294.2701     | 8.825251     | 0.0004659558 | \n",
       "\n",
       "\n"
      ],
      "text/plain": [
       "  Res.Df RSS       Df Sum of Sq F        Pr(>F)      \n",
       "1 58     1227.9050 NA       NA        NA           NA\n",
       "2 56      933.6349  2 294.2701  8.825251 0.0004659558"
      ]
     },
     "metadata": {},
     "output_type": "display_data"
    }
   ],
   "source": [
    "#comparing the model with only one line vs. one with 2 lines with difft intercepts\n",
    "anova(mod1, mod3)"
   ]
  },
  {
   "cell_type": "markdown",
   "metadata": {},
   "source": [
    "Under traditional model comparison, the model with more terms is significantly better -- the F-statistic is 8, giving a p-value of less than .05"
   ]
  },
  {
   "cell_type": "markdown",
   "metadata": {},
   "source": [
    "Additionally, the Adjusted R2 for both models are much higher with traditional statistics than with their cross validated equivalents"
   ]
  },
  {
   "cell_type": "code",
   "execution_count": 74,
   "metadata": {},
   "outputs": [
    {
     "data": {
      "text/html": [
       "0.638180744101617"
      ],
      "text/latex": [
       "0.638180744101617"
      ],
      "text/markdown": [
       "0.638180744101617"
      ],
      "text/plain": [
       "[1] 0.6381807"
      ]
     },
     "metadata": {},
     "output_type": "display_data"
    }
   ],
   "source": [
    "summary(mod1)$adj.r.squared"
   ]
  },
  {
   "cell_type": "code",
   "execution_count": 75,
   "metadata": {},
   "outputs": [
    {
     "data": {
      "text/html": [
       "0.446182251873472"
      ],
      "text/latex": [
       "0.446182251873472"
      ],
      "text/markdown": [
       "0.446182251873472"
      ],
      "text/plain": [
       "[1] 0.4461823"
      ]
     },
     "metadata": {},
     "output_type": "display_data"
    }
   ],
   "source": [
    "mean(R2cvs_mod1)"
   ]
  },
  {
   "cell_type": "code",
   "execution_count": 73,
   "metadata": {},
   "outputs": [
    {
     "data": {
      "text/html": [
       "0.715066211089405"
      ],
      "text/latex": [
       "0.715066211089405"
      ],
      "text/markdown": [
       "0.715066211089405"
      ],
      "text/plain": [
       "[1] 0.7150662"
      ]
     },
     "metadata": {},
     "output_type": "display_data"
    }
   ],
   "source": [
    "summary(mod3)$adj.r.squared"
   ]
  },
  {
   "cell_type": "code",
   "execution_count": 77,
   "metadata": {},
   "outputs": [
    {
     "data": {
      "text/html": [
       "0.587403581906098"
      ],
      "text/latex": [
       "0.587403581906098"
      ],
      "text/markdown": [
       "0.587403581906098"
      ],
      "text/plain": [
       "[1] 0.5874036"
      ]
     },
     "metadata": {},
     "output_type": "display_data"
    }
   ],
   "source": [
    "mean(R2cvs_mod3)"
   ]
  },
  {
   "cell_type": "markdown",
   "metadata": {},
   "source": [
    "## Discussion of ANOVAs"
   ]
  },
  {
   "cell_type": "code",
   "execution_count": 99,
   "metadata": {},
   "outputs": [
    {
     "data": {
      "text/html": [
       "<table>\n",
       "<thead><tr><th scope=col>Res.Df</th><th scope=col>RSS</th><th scope=col>Df</th><th scope=col>Sum of Sq</th><th scope=col>F</th><th scope=col>Pr(&gt;F)</th></tr></thead>\n",
       "<tbody>\n",
       "\t<tr><td>59          </td><td>3452.2093   </td><td>NA          </td><td>      NA    </td><td>      NA    </td><td>          NA</td></tr>\n",
       "\t<tr><td>56          </td><td> 933.6349   </td><td> 3          </td><td>2518.574    </td><td>50.35522    </td><td>6.520791e-16</td></tr>\n",
       "</tbody>\n",
       "</table>\n"
      ],
      "text/latex": [
       "\\begin{tabular}{r|llllll}\n",
       " Res.Df & RSS & Df & Sum of Sq & F & Pr(>F)\\\\\n",
       "\\hline\n",
       "\t 59           & 3452.2093    & NA           &       NA     &       NA     &           NA\\\\\n",
       "\t 56           &  933.6349    &  3           & 2518.574     & 50.35522     & 6.520791e-16\\\\\n",
       "\\end{tabular}\n"
      ],
      "text/markdown": [
       "\n",
       "Res.Df | RSS | Df | Sum of Sq | F | Pr(>F) | \n",
       "|---|---|\n",
       "| 59           | 3452.2093    | NA           |       NA     |       NA     |           NA | \n",
       "| 56           |  933.6349    |  3           | 2518.574     | 50.35522     | 6.520791e-16 | \n",
       "\n",
       "\n"
      ],
      "text/plain": [
       "  Res.Df RSS       Df Sum of Sq F        Pr(>F)      \n",
       "1 59     3452.2093 NA       NA        NA           NA\n",
       "2 56      933.6349  3 2518.574  50.35522 6.520791e-16"
      ]
     },
     "metadata": {},
     "output_type": "display_data"
    },
    {
     "data": {
      "text/html": [
       "<table>\n",
       "<thead><tr><th></th><th scope=col>Df</th><th scope=col>Sum Sq</th><th scope=col>Mean Sq</th><th scope=col>F value</th><th scope=col>Pr(&gt;F)</th></tr></thead>\n",
       "<tbody>\n",
       "\t<tr><th scope=row>supp</th><td> 1          </td><td> 205.35000  </td><td> 205.35000  </td><td> 12.317020  </td><td>8.936452e-04</td></tr>\n",
       "\t<tr><th scope=row>dose</th><td> 1          </td><td>2224.30430  </td><td>2224.30430  </td><td>133.415146  </td><td>1.907985e-16</td></tr>\n",
       "\t<tr><th scope=row>supp:dose</th><td> 1          </td><td>  88.92011  </td><td>  88.92011  </td><td>  5.333483  </td><td>2.463136e-02</td></tr>\n",
       "\t<tr><th scope=row>Residuals</th><td>56          </td><td> 933.63493  </td><td>  16.67205  </td><td>        NA  </td><td>          NA</td></tr>\n",
       "</tbody>\n",
       "</table>\n"
      ],
      "text/latex": [
       "\\begin{tabular}{r|lllll}\n",
       "  & Df & Sum Sq & Mean Sq & F value & Pr(>F)\\\\\n",
       "\\hline\n",
       "\tsupp &  1           &  205.35000   &  205.35000   &  12.317020   & 8.936452e-04\\\\\n",
       "\tdose &  1           & 2224.30430   & 2224.30430   & 133.415146   & 1.907985e-16\\\\\n",
       "\tsupp:dose &  1           &   88.92011   &   88.92011   &   5.333483   & 2.463136e-02\\\\\n",
       "\tResiduals & 56           &  933.63493   &   16.67205   &         NA   &           NA\\\\\n",
       "\\end{tabular}\n"
      ],
      "text/markdown": [
       "\n",
       "| <!--/--> | Df | Sum Sq | Mean Sq | F value | Pr(>F) | \n",
       "|---|---|---|---|\n",
       "| supp |  1           |  205.35000   |  205.35000   |  12.317020   | 8.936452e-04 | \n",
       "| dose |  1           | 2224.30430   | 2224.30430   | 133.415146   | 1.907985e-16 | \n",
       "| supp:dose |  1           |   88.92011   |   88.92011   |   5.333483   | 2.463136e-02 | \n",
       "| Residuals | 56           |  933.63493   |   16.67205   |         NA   |           NA | \n",
       "\n",
       "\n"
      ],
      "text/plain": [
       "          Df Sum Sq     Mean Sq    F value    Pr(>F)      \n",
       "supp       1  205.35000  205.35000  12.317020 8.936452e-04\n",
       "dose       1 2224.30430 2224.30430 133.415146 1.907985e-16\n",
       "supp:dose  1   88.92011   88.92011   5.333483 2.463136e-02\n",
       "Residuals 56  933.63493   16.67205         NA           NA"
      ]
     },
     "metadata": {},
     "output_type": "display_data"
    },
    {
     "data": {
      "text/html": [
       "<table>\n",
       "<thead><tr><th></th><th scope=col>Sum Sq</th><th scope=col>Df</th><th scope=col>F value</th><th scope=col>Pr(&gt;F)</th></tr></thead>\n",
       "<tbody>\n",
       "\t<tr><th scope=row>supp</th><td> 205.35000  </td><td> 1          </td><td> 12.317020  </td><td>8.936452e-04</td></tr>\n",
       "\t<tr><th scope=row>dose</th><td>2224.30430  </td><td> 1          </td><td>133.415146  </td><td>1.907985e-16</td></tr>\n",
       "\t<tr><th scope=row>supp:dose</th><td>  88.92011  </td><td> 1          </td><td>  5.333483  </td><td>2.463136e-02</td></tr>\n",
       "\t<tr><th scope=row>Residuals</th><td> 933.63493  </td><td>56          </td><td>        NA  </td><td>          NA</td></tr>\n",
       "</tbody>\n",
       "</table>\n"
      ],
      "text/latex": [
       "\\begin{tabular}{r|llll}\n",
       "  & Sum Sq & Df & F value & Pr(>F)\\\\\n",
       "\\hline\n",
       "\tsupp &  205.35000   &  1           &  12.317020   & 8.936452e-04\\\\\n",
       "\tdose & 2224.30430   &  1           & 133.415146   & 1.907985e-16\\\\\n",
       "\tsupp:dose &   88.92011   &  1           &   5.333483   & 2.463136e-02\\\\\n",
       "\tResiduals &  933.63493   & 56           &         NA   &           NA\\\\\n",
       "\\end{tabular}\n"
      ],
      "text/markdown": [
       "\n",
       "| <!--/--> | Sum Sq | Df | F value | Pr(>F) | \n",
       "|---|---|---|---|\n",
       "| supp |  205.35000   |  1           |  12.317020   | 8.936452e-04 | \n",
       "| dose | 2224.30430   |  1           | 133.415146   | 1.907985e-16 | \n",
       "| supp:dose |   88.92011   |  1           |   5.333483   | 2.463136e-02 | \n",
       "| Residuals |  933.63493   | 56           |         NA   |           NA | \n",
       "\n",
       "\n"
      ],
      "text/plain": [
       "          Sum Sq     Df F value    Pr(>F)      \n",
       "supp       205.35000  1  12.317020 8.936452e-04\n",
       "dose      2224.30430  1 133.415146 1.907985e-16\n",
       "supp:dose   88.92011  1   5.333483 2.463136e-02\n",
       "Residuals  933.63493 56         NA           NA"
      ]
     },
     "metadata": {},
     "output_type": "display_data"
    },
    {
     "data": {
      "text/plain": [
       "\n",
       "Call:\n",
       "lm(formula = len ~ supp * dose, data = df)\n",
       "\n",
       "Residuals:\n",
       "    Min      1Q  Median      3Q     Max \n",
       "-8.2264 -2.8462  0.0504  2.2893  7.9386 \n",
       "\n",
       "Coefficients:\n",
       "            Estimate Std. Error t value Pr(>|t|)    \n",
       "(Intercept)   11.550      1.581   7.304 1.09e-09 ***\n",
       "suppVC        -8.255      2.236  -3.691 0.000507 ***\n",
       "dose           7.811      1.195   6.534 2.03e-08 ***\n",
       "suppVC:dose    3.904      1.691   2.309 0.024631 *  \n",
       "---\n",
       "Signif. codes:  0 '***' 0.001 '**' 0.01 '*' 0.05 '.' 0.1 ' ' 1\n",
       "\n",
       "Residual standard error: 4.083 on 56 degrees of freedom\n",
       "Multiple R-squared:  0.7296,\tAdjusted R-squared:  0.7151 \n",
       "F-statistic: 50.36 on 3 and 56 DF,  p-value: 6.521e-16\n"
      ]
     },
     "metadata": {},
     "output_type": "display_data"
    }
   ],
   "source": [
    "#1) Best choice is direct comparison\n",
    "anova(mod0,mod3)\n",
    "#2) Type I Anova\n",
    "anova(mod3)\n",
    "#3) Type II Anova\n",
    "Anova(mod3, type=\"II\")\n",
    "#4) Get results of anova(model, null_model) from summary of lm()\n",
    "summary(mod3)"
   ]
  },
  {
   "cell_type": "markdown",
   "metadata": {},
   "source": [
    "### Two way ANOVA"
   ]
  },
  {
   "cell_type": "code",
   "execution_count": 102,
   "metadata": {},
   "outputs": [
    {
     "data": {
      "text/plain": [
       "            Df Sum Sq Mean Sq F value   Pr(>F)    \n",
       "supp         1  205.4   205.4  12.317 0.000894 ***\n",
       "dose         1 2224.3  2224.3 133.415  < 2e-16 ***\n",
       "supp:dose    1   88.9    88.9   5.333 0.024631 *  \n",
       "Residuals   56  933.6    16.7                     \n",
       "---\n",
       "Signif. codes:  0 '***' 0.001 '**' 0.01 '*' 0.05 '.' 0.1 ' ' 1"
      ]
     },
     "metadata": {},
     "output_type": "display_data"
    }
   ],
   "source": [
    "#This is a two way anova with an interaction\n",
    "summary(aov(len ~ supp*dose, data=df))"
   ]
  },
  {
   "cell_type": "markdown",
   "metadata": {},
   "source": [
    "### Type I ANOVAs (AKA Stepwise regression)"
   ]
  },
  {
   "cell_type": "code",
   "execution_count": 97,
   "metadata": {
    "collapsed": true
   },
   "outputs": [],
   "source": [
    "#This does tests in succession, adding additional variables. It is also known as step-wise regression\n",
    "# It is vulnerable to the order in which you do the comparisons, so it isn't in favor\n",
    "\n",
    "# The anova command (fom the stats library) shows sequential F values. This hypothesis\n",
    "# testing is sometimes called a Type I anova. In a Type I ANOVA, also called a sequential\n",
    "# ANOVA, a series of models are fit, and the *difference* in sum-of-square error between\n",
    "# each model is reported in the summary. Examine the table that's printed out after\n",
    "# running a sequential ANOVA.\n",
    "\n",
    "# The \"Sum Sq\" column in the table above is *difference* in model sum-of-squares (SSerr) for several\n",
    "# different models. The first row is a model that just predicts prestige from education,\n",
    "# which can be written (prestige ~ education). The \"Sum Sq\" column for this row shows\n",
    "# the sum-of-squares error of a model that just uses the overall mean, also called SStotal,\n",
    "# minus the sum-of-squares error of the model prestige ~ education.\n",
    "# Likewise, the second row shows the difference in the sum-of-squares error between\n",
    "# a the model prestige ~ education and the model prestige ~ education + type.\n",
    "# Check out section 4.4.3 of the blue Fox book for more information.\n"
   ]
  },
  {
   "cell_type": "code",
   "execution_count": 90,
   "metadata": {},
   "outputs": [
    {
     "data": {
      "text/html": [
       "<table>\n",
       "<thead><tr><th></th><th scope=col>Df</th><th scope=col>Sum Sq</th><th scope=col>Mean Sq</th><th scope=col>F value</th><th scope=col>Pr(&gt;F)</th></tr></thead>\n",
       "<tbody>\n",
       "\t<tr><th scope=row>education</th><td> 1          </td><td>21282.4711  </td><td>21282.47107 </td><td>518.176307  </td><td>7.079030e-39</td></tr>\n",
       "\t<tr><th scope=row>type</th><td> 2          </td><td> 1324.3580  </td><td>  662.17902 </td><td> 16.122446  </td><td>1.058844e-06</td></tr>\n",
       "\t<tr><th scope=row>log2(income)</th><td> 1          </td><td> 1643.7608  </td><td> 1643.76083 </td><td> 40.021571  </td><td>9.852513e-09</td></tr>\n",
       "\t<tr><th scope=row>education:type</th><td> 2          </td><td>  150.5593  </td><td>   75.27964 </td><td>  1.832876  </td><td>1.659390e-01</td></tr>\n",
       "\t<tr><th scope=row>type:log2(income)</th><td> 2          </td><td>  290.3298  </td><td>  145.16488 </td><td>  3.534411  </td><td>3.333769e-02</td></tr>\n",
       "\t<tr><th scope=row>Residuals</th><td>89          </td><td> 3655.3966  </td><td>   41.07187 </td><td>        NA  </td><td>          NA</td></tr>\n",
       "</tbody>\n",
       "</table>\n"
      ],
      "text/latex": [
       "\\begin{tabular}{r|lllll}\n",
       "  & Df & Sum Sq & Mean Sq & F value & Pr(>F)\\\\\n",
       "\\hline\n",
       "\teducation &  1           & 21282.4711   & 21282.47107  & 518.176307   & 7.079030e-39\\\\\n",
       "\ttype &  2           &  1324.3580   &   662.17902  &  16.122446   & 1.058844e-06\\\\\n",
       "\tlog2(income) &  1           &  1643.7608   &  1643.76083  &  40.021571   & 9.852513e-09\\\\\n",
       "\teducation:type &  2           &   150.5593   &    75.27964  &   1.832876   & 1.659390e-01\\\\\n",
       "\ttype:log2(income) &  2           &   290.3298   &   145.16488  &   3.534411   & 3.333769e-02\\\\\n",
       "\tResiduals & 89           &  3655.3966   &    41.07187  &         NA   &           NA\\\\\n",
       "\\end{tabular}\n"
      ],
      "text/markdown": [
       "\n",
       "| <!--/--> | Df | Sum Sq | Mean Sq | F value | Pr(>F) | \n",
       "|---|---|---|---|---|---|\n",
       "| education |  1           | 21282.4711   | 21282.47107  | 518.176307   | 7.079030e-39 | \n",
       "| type |  2           |  1324.3580   |   662.17902  |  16.122446   | 1.058844e-06 | \n",
       "| log2(income) |  1           |  1643.7608   |  1643.76083  |  40.021571   | 9.852513e-09 | \n",
       "| education:type |  2           |   150.5593   |    75.27964  |   1.832876   | 1.659390e-01 | \n",
       "| type:log2(income) |  2           |   290.3298   |   145.16488  |   3.534411   | 3.333769e-02 | \n",
       "| Residuals | 89           |  3655.3966   |    41.07187  |         NA   |           NA | \n",
       "\n",
       "\n"
      ],
      "text/plain": [
       "                  Df Sum Sq     Mean Sq     F value    Pr(>F)      \n",
       "education          1 21282.4711 21282.47107 518.176307 7.079030e-39\n",
       "type               2  1324.3580   662.17902  16.122446 1.058844e-06\n",
       "log2(income)       1  1643.7608  1643.76083  40.021571 9.852513e-09\n",
       "education:type     2   150.5593    75.27964   1.832876 1.659390e-01\n",
       "type:log2(income)  2   290.3298   145.16488   3.534411 3.333769e-02\n",
       "Residuals         89  3655.3966    41.07187         NA           NA"
      ]
     },
     "metadata": {},
     "output_type": "display_data"
    }
   ],
   "source": [
    "prestige.mod <- lm(prestige ~ education*type + log2(income)*type,\n",
    "                      data=Prestige)\n",
    "anova(prestige.mod)"
   ]
  },
  {
   "cell_type": "markdown",
   "metadata": {},
   "source": [
    "### Type II ANOVAs"
   ]
  },
  {
   "cell_type": "code",
   "execution_count": null,
   "metadata": {
    "collapsed": true
   },
   "outputs": [],
   "source": [
    "# Sequential F values are \"out-of-favor\" ... It is better to look at type II anovas.  The function\n",
    "# Anova() - with a capital A (from the car library) performs these tests.  In these tests, a model\n",
    "# that includes all regressors is compared to a model that includes all other regressors but one. (It\n",
    "# is a bit more complicated when interactions are involved)"
   ]
  },
  {
   "cell_type": "code",
   "execution_count": 104,
   "metadata": {},
   "outputs": [
    {
     "data": {
      "text/html": [
       "<table>\n",
       "<thead><tr><th></th><th scope=col>Sum Sq</th><th scope=col>Df</th><th scope=col>F value</th><th scope=col>Pr(&gt;F)</th></tr></thead>\n",
       "<tbody>\n",
       "\t<tr><th scope=row>education</th><td>1209.3452   </td><td> 1          </td><td>29.444610   </td><td>4.912420e-07</td></tr>\n",
       "\t<tr><th scope=row>type</th><td> 469.0683   </td><td> 2          </td><td> 5.710335   </td><td>4.642229e-03</td></tr>\n",
       "\t<tr><th scope=row>log2(income)</th><td>1690.8053   </td><td> 1          </td><td>41.166989   </td><td>6.588546e-09</td></tr>\n",
       "\t<tr><th scope=row>education:type</th><td> 178.7607   </td><td> 2          </td><td> 2.176194   </td><td>1.194741e-01</td></tr>\n",
       "\t<tr><th scope=row>type:log2(income)</th><td> 290.3298   </td><td> 2          </td><td> 3.534411   </td><td>3.333769e-02</td></tr>\n",
       "\t<tr><th scope=row>Residuals</th><td>3655.3966   </td><td>89          </td><td>       NA   </td><td>          NA</td></tr>\n",
       "</tbody>\n",
       "</table>\n"
      ],
      "text/latex": [
       "\\begin{tabular}{r|llll}\n",
       "  & Sum Sq & Df & F value & Pr(>F)\\\\\n",
       "\\hline\n",
       "\teducation & 1209.3452    &  1           & 29.444610    & 4.912420e-07\\\\\n",
       "\ttype &  469.0683    &  2           &  5.710335    & 4.642229e-03\\\\\n",
       "\tlog2(income) & 1690.8053    &  1           & 41.166989    & 6.588546e-09\\\\\n",
       "\teducation:type &  178.7607    &  2           &  2.176194    & 1.194741e-01\\\\\n",
       "\ttype:log2(income) &  290.3298    &  2           &  3.534411    & 3.333769e-02\\\\\n",
       "\tResiduals & 3655.3966    & 89           &        NA    &           NA\\\\\n",
       "\\end{tabular}\n"
      ],
      "text/markdown": [
       "\n",
       "| <!--/--> | Sum Sq | Df | F value | Pr(>F) | \n",
       "|---|---|---|---|---|---|\n",
       "| education | 1209.3452    |  1           | 29.444610    | 4.912420e-07 | \n",
       "| type |  469.0683    |  2           |  5.710335    | 4.642229e-03 | \n",
       "| log2(income) | 1690.8053    |  1           | 41.166989    | 6.588546e-09 | \n",
       "| education:type |  178.7607    |  2           |  2.176194    | 1.194741e-01 | \n",
       "| type:log2(income) |  290.3298    |  2           |  3.534411    | 3.333769e-02 | \n",
       "| Residuals | 3655.3966    | 89           |        NA    |           NA | \n",
       "\n",
       "\n"
      ],
      "text/plain": [
       "                  Sum Sq    Df F value   Pr(>F)      \n",
       "education         1209.3452  1 29.444610 4.912420e-07\n",
       "type               469.0683  2  5.710335 4.642229e-03\n",
       "log2(income)      1690.8053  1 41.166989 6.588546e-09\n",
       "education:type     178.7607  2  2.176194 1.194741e-01\n",
       "type:log2(income)  290.3298  2  3.534411 3.333769e-02\n",
       "Residuals         3655.3966 89        NA           NA"
      ]
     },
     "metadata": {},
     "output_type": "display_data"
    }
   ],
   "source": [
    "Anova(prestige.mod, type=\"II\")"
   ]
  },
  {
   "cell_type": "code",
   "execution_count": 105,
   "metadata": {},
   "outputs": [
    {
     "data": {
      "text/plain": [
       "\n",
       "Call:\n",
       "lm(formula = prestige ~ education * type + log2(income) * type, \n",
       "    data = Prestige)\n",
       "\n",
       "Residuals:\n",
       "    Min      1Q  Median      3Q     Max \n",
       "-13.970  -4.124   1.206   3.829  18.059 \n",
       "\n",
       "Coefficients:\n",
       "                       Estimate Std. Error t value Pr(>|t|)    \n",
       "(Intercept)           -120.0459    20.1576  -5.955 5.07e-08 ***\n",
       "education                2.3357     0.9277   2.518  0.01360 *  \n",
       "typeprof                85.1601    31.1810   2.731  0.00761 ** \n",
       "typewc                  30.2412    37.9788   0.796  0.42800    \n",
       "log2(income)            11.0782     1.8063   6.133 2.32e-08 ***\n",
       "education:typeprof       0.6974     1.2895   0.541  0.58998    \n",
       "education:typewc         3.6400     1.7589   2.069  0.04140 *  \n",
       "typeprof:log2(income)   -6.5356     2.6167  -2.498  0.01434 *  \n",
       "typewc:log2(income)     -5.6530     3.0519  -1.852  0.06730 .  \n",
       "---\n",
       "Signif. codes:  0 '***' 0.001 '**' 0.01 '*' 0.05 '.' 0.1 ' ' 1\n",
       "\n",
       "Residual standard error: 6.409 on 89 degrees of freedom\n",
       "  (4 observations deleted due to missingness)\n",
       "Multiple R-squared:  0.871,\tAdjusted R-squared:  0.8595 \n",
       "F-statistic: 75.15 on 8 and 89 DF,  p-value: < 2.2e-16\n"
      ]
     },
     "metadata": {},
     "output_type": "display_data"
    }
   ],
   "source": [
    "summary(prestige.mod)"
   ]
  },
  {
   "cell_type": "markdown",
   "metadata": {},
   "source": [
    "### ANOVA for model comparison\n",
    "This is how we would traditionally compare two models  -- it is what was called for on the practice midterm"
   ]
  },
  {
   "cell_type": "markdown",
   "metadata": {},
   "source": [
    "An ANOVA comparing a full model to the mean model (with only the mean intercept) is equivalent to the F stat and P value reported for the summary of the full model"
   ]
  },
  {
   "cell_type": "code",
   "execution_count": 91,
   "metadata": {},
   "outputs": [
    {
     "data": {
      "text/html": [
       "<table>\n",
       "<thead><tr><th scope=col>Res.Df</th><th scope=col>RSS</th><th scope=col>Df</th><th scope=col>Sum of Sq</th><th scope=col>F</th><th scope=col>Pr(&gt;F)</th></tr></thead>\n",
       "<tbody>\n",
       "\t<tr><td>56          </td><td> 933.6349   </td><td>NA          </td><td>       NA   </td><td>      NA    </td><td>          NA</td></tr>\n",
       "\t<tr><td>59          </td><td>3452.2093   </td><td>-3          </td><td>-2518.574   </td><td>50.35522    </td><td>6.520791e-16</td></tr>\n",
       "</tbody>\n",
       "</table>\n"
      ],
      "text/latex": [
       "\\begin{tabular}{r|llllll}\n",
       " Res.Df & RSS & Df & Sum of Sq & F & Pr(>F)\\\\\n",
       "\\hline\n",
       "\t 56           &  933.6349    & NA           &        NA    &       NA     &           NA\\\\\n",
       "\t 59           & 3452.2093    & -3           & -2518.574    & 50.35522     & 6.520791e-16\\\\\n",
       "\\end{tabular}\n"
      ],
      "text/markdown": [
       "\n",
       "Res.Df | RSS | Df | Sum of Sq | F | Pr(>F) | \n",
       "|---|---|\n",
       "| 56           |  933.6349    | NA           |        NA    |       NA     |           NA | \n",
       "| 59           | 3452.2093    | -3           | -2518.574    | 50.35522     | 6.520791e-16 | \n",
       "\n",
       "\n"
      ],
      "text/plain": [
       "  Res.Df RSS       Df Sum of Sq F        Pr(>F)      \n",
       "1 56      933.6349 NA        NA       NA           NA\n",
       "2 59     3452.2093 -3 -2518.574 50.35522 6.520791e-16"
      ]
     },
     "metadata": {},
     "output_type": "display_data"
    }
   ],
   "source": [
    "anova(mod3, mod0)"
   ]
  },
  {
   "cell_type": "code",
   "execution_count": 92,
   "metadata": {},
   "outputs": [
    {
     "data": {
      "text/plain": [
       "\n",
       "Call:\n",
       "lm(formula = len ~ supp * dose, data = df)\n",
       "\n",
       "Residuals:\n",
       "    Min      1Q  Median      3Q     Max \n",
       "-8.2264 -2.8462  0.0504  2.2893  7.9386 \n",
       "\n",
       "Coefficients:\n",
       "            Estimate Std. Error t value Pr(>|t|)    \n",
       "(Intercept)   11.550      1.581   7.304 1.09e-09 ***\n",
       "suppVC        -8.255      2.236  -3.691 0.000507 ***\n",
       "dose           7.811      1.195   6.534 2.03e-08 ***\n",
       "suppVC:dose    3.904      1.691   2.309 0.024631 *  \n",
       "---\n",
       "Signif. codes:  0 '***' 0.001 '**' 0.01 '*' 0.05 '.' 0.1 ' ' 1\n",
       "\n",
       "Residual standard error: 4.083 on 56 degrees of freedom\n",
       "Multiple R-squared:  0.7296,\tAdjusted R-squared:  0.7151 \n",
       "F-statistic: 50.36 on 3 and 56 DF,  p-value: 6.521e-16\n"
      ]
     },
     "metadata": {},
     "output_type": "display_data"
    }
   ],
   "source": [
    "summary(mod3)"
   ]
  },
  {
   "cell_type": "markdown",
   "metadata": {},
   "source": [
    "A more typical ANOVA might compare one partial model to another as follows"
   ]
  },
  {
   "cell_type": "code",
   "execution_count": 98,
   "metadata": {},
   "outputs": [
    {
     "data": {
      "text/html": [
       "<table>\n",
       "<thead><tr><th scope=col>Res.Df</th><th scope=col>RSS</th><th scope=col>Df</th><th scope=col>Sum of Sq</th><th scope=col>F</th><th scope=col>Pr(&gt;F)</th></tr></thead>\n",
       "<tbody>\n",
       "\t<tr><td>56          </td><td> 933.6349   </td><td>NA          </td><td>       NA   </td><td>      NA    </td><td>          NA</td></tr>\n",
       "\t<tr><td>58          </td><td>1227.9050   </td><td>-2          </td><td>-294.2701   </td><td>8.825251    </td><td>0.0004659558</td></tr>\n",
       "</tbody>\n",
       "</table>\n"
      ],
      "text/latex": [
       "\\begin{tabular}{r|llllll}\n",
       " Res.Df & RSS & Df & Sum of Sq & F & Pr(>F)\\\\\n",
       "\\hline\n",
       "\t 56           &  933.6349    & NA           &        NA    &       NA     &           NA\\\\\n",
       "\t 58           & 1227.9050    & -2           & -294.2701    & 8.825251     & 0.0004659558\\\\\n",
       "\\end{tabular}\n"
      ],
      "text/markdown": [
       "\n",
       "Res.Df | RSS | Df | Sum of Sq | F | Pr(>F) | \n",
       "|---|---|\n",
       "| 56           |  933.6349    | NA           |        NA    |       NA     |           NA | \n",
       "| 58           | 1227.9050    | -2           | -294.2701    | 8.825251     | 0.0004659558 | \n",
       "\n",
       "\n"
      ],
      "text/plain": [
       "  Res.Df RSS       Df Sum of Sq F        Pr(>F)      \n",
       "1 56      933.6349 NA        NA       NA           NA\n",
       "2 58     1227.9050 -2 -294.2701 8.825251 0.0004659558"
      ]
     },
     "metadata": {},
     "output_type": "display_data"
    }
   ],
   "source": [
    "anova(mod3, mod1)"
   ]
  },
  {
   "cell_type": "markdown",
   "metadata": {},
   "source": [
    "# Permutation test"
   ]
  },
  {
   "cell_type": "markdown",
   "metadata": {},
   "source": [
    "### Example from tutorial 6"
   ]
  },
  {
   "cell_type": "markdown",
   "metadata": {},
   "source": [
    "#### Exploring the data"
   ]
  },
  {
   "cell_type": "code",
   "execution_count": 119,
   "metadata": {
    "scrolled": true
   },
   "outputs": [
    {
     "data": {
      "text/html": [
       "<table>\n",
       "<thead><tr><th></th><th scope=col>rank</th><th scope=col>discipline</th><th scope=col>yrs.since.phd</th><th scope=col>yrs.service</th><th scope=col>sex</th><th scope=col>salary</th></tr></thead>\n",
       "<tbody>\n",
       "\t<tr><th scope=row>31</th><td>Prof     </td><td>B        </td><td>20       </td><td> 4       </td><td>Male     </td><td>132261   </td></tr>\n",
       "\t<tr><th scope=row>97</th><td>AssocProf</td><td>B        </td><td>17       </td><td>12       </td><td>Male     </td><td> 95611   </td></tr>\n",
       "\t<tr><th scope=row>101</th><td>Prof     </td><td>B        </td><td>42       </td><td>25       </td><td>Male     </td><td>133217   </td></tr>\n",
       "\t<tr><th scope=row>111</th><td>Prof     </td><td>A        </td><td>20       </td><td>16       </td><td>Male     </td><td>112429   </td></tr>\n",
       "\t<tr><th scope=row>133</th><td>AssocProf</td><td>A        </td><td>10       </td><td> 8       </td><td>Female   </td><td> 77500   </td></tr>\n",
       "\t<tr><th scope=row>157</th><td>AssocProf</td><td>B        </td><td>12       </td><td>18       </td><td>Male     </td><td>113341   </td></tr>\n",
       "\t<tr><th scope=row>176</th><td>Prof     </td><td>B        </td><td>28       </td><td>25       </td><td>Male     </td><td>111751   </td></tr>\n",
       "\t<tr><th scope=row>182</th><td>Prof     </td><td>B        </td><td>18       </td><td> 5       </td><td>Male     </td><td>141136   </td></tr>\n",
       "\t<tr><th scope=row>331</th><td>Prof     </td><td>B        </td><td>49       </td><td>60       </td><td>Male     </td><td>192253   </td></tr>\n",
       "\t<tr><th scope=row>350</th><td>Prof     </td><td>B        </td><td>27       </td><td>28       </td><td>Male     </td><td>144309   </td></tr>\n",
       "</tbody>\n",
       "</table>\n"
      ],
      "text/latex": [
       "\\begin{tabular}{r|llllll}\n",
       "  & rank & discipline & yrs.since.phd & yrs.service & sex & salary\\\\\n",
       "\\hline\n",
       "\t31 & Prof      & B         & 20        &  4        & Male      & 132261   \\\\\n",
       "\t97 & AssocProf & B         & 17        & 12        & Male      &  95611   \\\\\n",
       "\t101 & Prof      & B         & 42        & 25        & Male      & 133217   \\\\\n",
       "\t111 & Prof      & A         & 20        & 16        & Male      & 112429   \\\\\n",
       "\t133 & AssocProf & A         & 10        &  8        & Female    &  77500   \\\\\n",
       "\t157 & AssocProf & B         & 12        & 18        & Male      & 113341   \\\\\n",
       "\t176 & Prof      & B         & 28        & 25        & Male      & 111751   \\\\\n",
       "\t182 & Prof      & B         & 18        &  5        & Male      & 141136   \\\\\n",
       "\t331 & Prof      & B         & 49        & 60        & Male      & 192253   \\\\\n",
       "\t350 & Prof      & B         & 27        & 28        & Male      & 144309   \\\\\n",
       "\\end{tabular}\n"
      ],
      "text/markdown": [
       "\n",
       "| <!--/--> | rank | discipline | yrs.since.phd | yrs.service | sex | salary | \n",
       "|---|---|---|---|---|---|---|---|---|---|\n",
       "| 31 | Prof      | B         | 20        |  4        | Male      | 132261    | \n",
       "| 97 | AssocProf | B         | 17        | 12        | Male      |  95611    | \n",
       "| 101 | Prof      | B         | 42        | 25        | Male      | 133217    | \n",
       "| 111 | Prof      | A         | 20        | 16        | Male      | 112429    | \n",
       "| 133 | AssocProf | A         | 10        |  8        | Female    |  77500    | \n",
       "| 157 | AssocProf | B         | 12        | 18        | Male      | 113341    | \n",
       "| 176 | Prof      | B         | 28        | 25        | Male      | 111751    | \n",
       "| 182 | Prof      | B         | 18        |  5        | Male      | 141136    | \n",
       "| 331 | Prof      | B         | 49        | 60        | Male      | 192253    | \n",
       "| 350 | Prof      | B         | 27        | 28        | Male      | 144309    | \n",
       "\n",
       "\n"
      ],
      "text/plain": [
       "    rank      discipline yrs.since.phd yrs.service sex    salary\n",
       "31  Prof      B          20             4          Male   132261\n",
       "97  AssocProf B          17            12          Male    95611\n",
       "101 Prof      B          42            25          Male   133217\n",
       "111 Prof      A          20            16          Male   112429\n",
       "133 AssocProf A          10             8          Female  77500\n",
       "157 AssocProf B          12            18          Male   113341\n",
       "176 Prof      B          28            25          Male   111751\n",
       "182 Prof      B          18             5          Male   141136\n",
       "331 Prof      B          49            60          Male   192253\n",
       "350 Prof      B          27            28          Male   144309"
      ]
     },
     "metadata": {},
     "output_type": "display_data"
    },
    {
     "data": {
      "text/html": [
       "397"
      ],
      "text/latex": [
       "397"
      ],
      "text/markdown": [
       "397"
      ],
      "text/plain": [
       "[1] 397"
      ]
     },
     "metadata": {},
     "output_type": "display_data"
    },
    {
     "data": {
      "text/plain": [
       "                     sex Female Male\n",
       "discipline rank                     \n",
       "A          AsstProf           6   18\n",
       "           AssocProf          4   22\n",
       "           Prof               8  123\n",
       "B          AsstProf           5   38\n",
       "           AssocProf          6   32\n",
       "           Prof              10  125"
      ]
     },
     "metadata": {},
     "output_type": "display_data"
    },
    {
     "data": {
      "text/plain": [
       "                     sex Female Male\n",
       "discipline rank                     \n",
       "A          AsstProf        25.0 75.0\n",
       "           AssocProf       15.4 84.6\n",
       "           Prof             6.1 93.9\n",
       "B          AsstProf        11.6 88.4\n",
       "           AssocProf       15.8 84.2\n",
       "           Prof             7.4 92.6"
      ]
     },
     "metadata": {},
     "output_type": "display_data"
    },
    {
     "data": {},
     "metadata": {},
     "output_type": "display_data"
    },
    {
     "data": {
      "image/png": "[encoded data removed]",
      "text/plain": [
       "plot without title"
      ]
     },
     "metadata": {},
     "output_type": "display_data"
    }
   ],
   "source": [
    "# Let's look at the data format\n",
    "some(Salaries)\n",
    "nrow(Salaries)\n",
    "\n",
    "# let's relevel the factor rank\n",
    "Salaries$rank <- relevel(Salaries$rank, ref=\"AsstProf\")\n",
    "\n",
    "# Making a table to see how many subjects in each category\n",
    "# xtabs make a table and ftable \"flattens\" the table\n",
    "ftable(x1 <- xtabs(~ discipline + rank + sex, data=Salaries))\n",
    "round(100*ftable(prop.table(x1, margin=c(1, 2))), 1) # % m and f\n",
    "\n",
    "# We are plotting the data\n",
    "library(lattice)\n",
    "xyplot(salary ~ yrs.since.phd | discipline:rank, group=sex,\n",
    "  data=Salaries, type=c(\"g\", \"p\", \"r\"), auto.key=TRUE)\n"
   ]
  },
  {
   "cell_type": "code",
   "execution_count": 120,
   "metadata": {
    "scrolled": true
   },
   "outputs": [
    {
     "data": {},
     "metadata": {},
     "output_type": "display_data"
    },
    {
     "data": {
      "image/png": "[encoded data removed]",
      "text/plain": [
       "plot without title"
      ]
     },
     "metadata": {},
     "output_type": "display_data"
    }
   ],
   "source": [
    "\n",
    "bwplot(salary ~ discipline:sex | rank, data=Salaries,\n",
    "    scales=list(rot=90), layout=c(3, 1))\n",
    "\n"
   ]
  },
  {
   "cell_type": "markdown",
   "metadata": {},
   "source": [
    "#### Getting baseline predictions"
   ]
  },
  {
   "cell_type": "code",
   "execution_count": 121,
   "metadata": {},
   "outputs": [
    {
     "data": {
      "text/html": [
       "-4550.50974065589"
      ],
      "text/latex": [
       "-4550.50974065589"
      ],
      "text/markdown": [
       "-4550.50974065589"
      ],
      "text/plain": [
       "[1] -4550.51"
      ]
     },
     "metadata": {},
     "output_type": "display_data"
    }
   ],
   "source": [
    "# Generate a model for Males only\n",
    "fselector <- Salaries$sex == \"Female\" # TRUE for females\n",
    "salmod <- lm(salary ~ rank*discipline + yrs.since.phd, data=Salaries,\n",
    "    subset=!fselector) # regression for males\n",
    "    \n",
    "# predictions for females:\n",
    "femalePreds <- predict(salmod, newdata=Salaries[fselector, ])\n",
    "(meanDiff <- mean(Salaries$salary[fselector] - femalePreds))"
   ]
  },
  {
   "cell_type": "markdown",
   "metadata": {},
   "source": [
    "#### Bootstrapping"
   ]
  },
  {
   "cell_type": "code",
   "execution_count": 122,
   "metadata": {},
   "outputs": [
    {
     "data": {
      "text/html": [
       "0"
      ],
      "text/latex": [
       "0"
      ],
      "text/markdown": [
       "0"
      ],
      "text/plain": [
       "[1] 0"
      ]
     },
     "metadata": {},
     "output_type": "display_data"
    }
   ],
   "source": [
    "\n",
    "# Let's do a bootstrap to see how often we could get this result\n",
    "set.seed(8141976) # for reproducibility\n",
    "fnumber <- sum(fselector) # number of females\n",
    "n <- length(fselector) # number of observations\n",
    "B <- 2 # number of replications\n",
    "simDiff <- numeric(B) # initialize vector with B entries\n",
    "for (j in 1:B){\n",
    "    sel <- sample(1:n, fnumber) # random sample of nominated 'females'\n",
    "    m2 <- update(salmod, subset=-sel) # refit regression model\n",
    "    simDiff[j] <- mean(Salaries$salary[sel]\n",
    "        - predict(m2, newdata=Salaries[sel, ])) # compute mean diff.\n",
    "    }\n",
    "    \n",
    "# Calculate the p-value    \n",
    "(frac <- round(sum(meanDiff > simDiff)/(1 + B), 3))"
   ]
  },
  {
   "cell_type": "markdown",
   "metadata": {},
   "source": [
    "#### Plotting"
   ]
  },
  {
   "cell_type": "code",
   "execution_count": 123,
   "metadata": {
    "scrolled": true
   },
   "outputs": [
    {
     "data": {
      "image/png": "[encoded data removed]",
      "text/plain": [
       "Plot with title \"Histogram of Simulated Mean Differences\n",
       "p-value = 0\""
      ]
     },
     "metadata": {},
     "output_type": "display_data"
    }
   ],
   "source": [
    "hist(simDiff,\n",
    "   main=paste(\"Histogram of Simulated Mean Differences\\np-value =\",\n",
    "       frac),\n",
    "   xlab=\"Dollars\")\n",
    "abline(v=meanDiff, lty=\"dashed\")"
   ]
  },
  {
   "cell_type": "code",
   "execution_count": null,
   "metadata": {
    "collapsed": true
   },
   "outputs": [],
   "source": []
  }
 ],
 "metadata": {
  "kernelspec": {
   "display_name": "R",
   "language": "R",
   "name": "ir"
  },
  "language_info": {
   "codemirror_mode": "r",
   "file_extension": ".r",
   "mimetype": "text/x-r-source",
   "name": "R",
   "pygments_lexer": "r",
   "version": "3.4.2"
  }
 },
 "nbformat": 4,
 "nbformat_minor": 1
}
